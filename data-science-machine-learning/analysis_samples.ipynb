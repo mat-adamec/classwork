{
 "cells": [
  {
   "cell_type": "code",
   "execution_count": 1,
   "metadata": {},
   "outputs": [],
   "source": [
    "import numpy as np\n",
    "import pandas as pd\n",
    "from matplotlib import pyplot as plt"
   ]
  },
  {
   "cell_type": "markdown",
   "metadata": {},
   "source": [
    "# Part A"
   ]
  },
  {
   "cell_type": "code",
   "execution_count": 2,
   "metadata": {},
   "outputs": [],
   "source": [
    "''' This function calculates the Euclidean distance between two vectors. '''\n",
    "def Euclidean(vector1, vector2):\n",
    "    return np.sqrt(np.abs(vector1**2 - vector2**2).sum())\n",
    "\n",
    "''' This function calculates the Manhattan distance between two vectors. '''\n",
    "def Manhattan(vector1, vector2):\n",
    "    return np.abs(vector1 - vector2).sum()"
   ]
  },
  {
   "cell_type": "code",
   "execution_count": 3,
   "metadata": {},
   "outputs": [],
   "source": [
    "class DBSCAN:\n",
    "    def __init__(self):\n",
    "        pass\n",
    "    \n",
    "    def RangeQuery(self, X, point, eps, distance_metric):\n",
    "        neighbors = []\n",
    "        for row in X:\n",
    "            if distance_metric(point, row) <= eps:\n",
    "                neighbors.append(row)\n",
    "        return np.array(neighbors)\n",
    "    \n",
    "    def fit(self, X, eps, min_samples, distance_metric=\"euclidean\"):\n",
    "        \n",
    "        if distance_metric==\"manhattan\":\n",
    "            self.distance_metric = Manhattan\n",
    "        else:\n",
    "            self.distance_metric = Euclidean\n",
    "            \n",
    "        C = 0\n",
    "        processed = np.empty(X.shape[0])\n",
    "        processed[:] = np.nan\n",
    "        for row, i in zip(X, range(X.shape[0])):\n",
    "            if ~np.isnan(processed[i]):\n",
    "                continue\n",
    "            neighbors = self.RangeQuery(X, row, eps, self.distance_metric)\n",
    "            if len(neighbors) < min_samples:\n",
    "                # Label noise by -1.\n",
    "                processed[i] = -1\n",
    "                continue\n",
    "            C = C + 1\n",
    "            processed[i] = C\n",
    "            # Remove self from neighbors list.\n",
    "            for neighbor, i in zip(neighbors, range(neighbors.shape[0])):\n",
    "                if (neighbor==row).all():\n",
    "                    self_index = i\n",
    "            seed = np.delete(neighbors, self_index, axis=0)\n",
    "            for neighbor in seed:\n",
    "                for i in range(X.shape[0]):\n",
    "                    if (neighbor==X[i]).all():\n",
    "                        index = i\n",
    "                        break\n",
    "                if processed[index] == -1:\n",
    "                    processed[index] = C\n",
    "                if ~np.isnan(processed[index]):\n",
    "                    continue\n",
    "                processed[index] = C\n",
    "                neighbors = self.RangeQuery(X, neighbor, eps, self.distance_metric)\n",
    "                if len(neighbors) >= min_samples:\n",
    "                    np.append(seed, neighbors)\n",
    "        return processed"
   ]
  },
  {
   "cell_type": "markdown",
   "metadata": {},
   "source": [
    "# Part B\n",
    "We wish to load in the MovieLens dataset and do some basic analysis, pulling out specific columns of interest, dropping null values, getting rid of movies with low votes, and standardizing the remaining data."
   ]
  },
  {
   "cell_type": "code",
   "execution_count": 4,
   "metadata": {},
   "outputs": [
    {
     "data": {
      "text/html": [
       "<div>\n",
       "<style scoped>\n",
       "    .dataframe tbody tr th:only-of-type {\n",
       "        vertical-align: middle;\n",
       "    }\n",
       "\n",
       "    .dataframe tbody tr th {\n",
       "        vertical-align: top;\n",
       "    }\n",
       "\n",
       "    .dataframe thead th {\n",
       "        text-align: right;\n",
       "    }\n",
       "</style>\n",
       "<table border=\"1\" class=\"dataframe\">\n",
       "  <thead>\n",
       "    <tr style=\"text-align: right;\">\n",
       "      <th></th>\n",
       "      <th>budget</th>\n",
       "      <th>popularity</th>\n",
       "      <th>revenue</th>\n",
       "      <th>runtime</th>\n",
       "      <th>vote_average</th>\n",
       "      <th>vote_count</th>\n",
       "    </tr>\n",
       "  </thead>\n",
       "  <tbody>\n",
       "    <tr>\n",
       "      <th>0</th>\n",
       "      <td>30000000</td>\n",
       "      <td>21.946943</td>\n",
       "      <td>373554033.0</td>\n",
       "      <td>81.0</td>\n",
       "      <td>7.7</td>\n",
       "      <td>5415.0</td>\n",
       "    </tr>\n",
       "    <tr>\n",
       "      <th>1</th>\n",
       "      <td>65000000</td>\n",
       "      <td>17.015539</td>\n",
       "      <td>262797249.0</td>\n",
       "      <td>104.0</td>\n",
       "      <td>6.9</td>\n",
       "      <td>2413.0</td>\n",
       "    </tr>\n",
       "    <tr>\n",
       "      <th>2</th>\n",
       "      <td>0</td>\n",
       "      <td>11.7129</td>\n",
       "      <td>0.0</td>\n",
       "      <td>101.0</td>\n",
       "      <td>6.5</td>\n",
       "      <td>92.0</td>\n",
       "    </tr>\n",
       "    <tr>\n",
       "      <th>3</th>\n",
       "      <td>16000000</td>\n",
       "      <td>3.859495</td>\n",
       "      <td>81452156.0</td>\n",
       "      <td>127.0</td>\n",
       "      <td>6.1</td>\n",
       "      <td>34.0</td>\n",
       "    </tr>\n",
       "    <tr>\n",
       "      <th>4</th>\n",
       "      <td>0</td>\n",
       "      <td>8.387519</td>\n",
       "      <td>76578911.0</td>\n",
       "      <td>106.0</td>\n",
       "      <td>5.7</td>\n",
       "      <td>173.0</td>\n",
       "    </tr>\n",
       "    <tr>\n",
       "      <th>...</th>\n",
       "      <td>...</td>\n",
       "      <td>...</td>\n",
       "      <td>...</td>\n",
       "      <td>...</td>\n",
       "      <td>...</td>\n",
       "      <td>...</td>\n",
       "    </tr>\n",
       "    <tr>\n",
       "      <th>45461</th>\n",
       "      <td>0</td>\n",
       "      <td>0.072051</td>\n",
       "      <td>0.0</td>\n",
       "      <td>90.0</td>\n",
       "      <td>4.0</td>\n",
       "      <td>1.0</td>\n",
       "    </tr>\n",
       "    <tr>\n",
       "      <th>45462</th>\n",
       "      <td>0</td>\n",
       "      <td>0.178241</td>\n",
       "      <td>0.0</td>\n",
       "      <td>360.0</td>\n",
       "      <td>9.0</td>\n",
       "      <td>3.0</td>\n",
       "    </tr>\n",
       "    <tr>\n",
       "      <th>45463</th>\n",
       "      <td>0</td>\n",
       "      <td>0.903007</td>\n",
       "      <td>0.0</td>\n",
       "      <td>90.0</td>\n",
       "      <td>3.8</td>\n",
       "      <td>6.0</td>\n",
       "    </tr>\n",
       "    <tr>\n",
       "      <th>45464</th>\n",
       "      <td>0</td>\n",
       "      <td>0.003503</td>\n",
       "      <td>0.0</td>\n",
       "      <td>87.0</td>\n",
       "      <td>0.0</td>\n",
       "      <td>0.0</td>\n",
       "    </tr>\n",
       "    <tr>\n",
       "      <th>45465</th>\n",
       "      <td>0</td>\n",
       "      <td>0.163015</td>\n",
       "      <td>0.0</td>\n",
       "      <td>75.0</td>\n",
       "      <td>0.0</td>\n",
       "      <td>0.0</td>\n",
       "    </tr>\n",
       "  </tbody>\n",
       "</table>\n",
       "<p>45466 rows × 6 columns</p>\n",
       "</div>"
      ],
      "text/plain": [
       "         budget popularity      revenue  runtime  vote_average  vote_count\n",
       "0      30000000  21.946943  373554033.0     81.0           7.7      5415.0\n",
       "1      65000000  17.015539  262797249.0    104.0           6.9      2413.0\n",
       "2             0    11.7129          0.0    101.0           6.5        92.0\n",
       "3      16000000   3.859495   81452156.0    127.0           6.1        34.0\n",
       "4             0   8.387519   76578911.0    106.0           5.7       173.0\n",
       "...         ...        ...          ...      ...           ...         ...\n",
       "45461         0   0.072051          0.0     90.0           4.0         1.0\n",
       "45462         0   0.178241          0.0    360.0           9.0         3.0\n",
       "45463         0   0.903007          0.0     90.0           3.8         6.0\n",
       "45464         0   0.003503          0.0     87.0           0.0         0.0\n",
       "45465         0   0.163015          0.0     75.0           0.0         0.0\n",
       "\n",
       "[45466 rows x 6 columns]"
      ]
     },
     "execution_count": 4,
     "metadata": {},
     "output_type": "execute_result"
    }
   ],
   "source": [
    "fields = ['budget', 'popularity', 'revenue', 'runtime', 'vote_average', 'vote_count']\n",
    "df = pd.read_csv('movies_metadata.csv', sep=',', usecols=fields, low_memory=False)\n",
    "df"
   ]
  },
  {
   "cell_type": "code",
   "execution_count": 5,
   "metadata": {},
   "outputs": [
    {
     "data": {
      "text/plain": [
       "budget          0\n",
       "popularity      0\n",
       "revenue         0\n",
       "runtime         0\n",
       "vote_average    0\n",
       "vote_count      0\n",
       "dtype: int64"
      ]
     },
     "execution_count": 5,
     "metadata": {},
     "output_type": "execute_result"
    }
   ],
   "source": [
    "df = df.dropna()\n",
    "df.isnull().sum()"
   ]
  },
  {
   "cell_type": "code",
   "execution_count": 6,
   "metadata": {},
   "outputs": [],
   "source": [
    "df = df[df['vote_count'] > 30]"
   ]
  },
  {
   "cell_type": "code",
   "execution_count": 7,
   "metadata": {},
   "outputs": [],
   "source": [
    "from sklearn.preprocessing import StandardScaler\n",
    "scaler = StandardScaler()\n",
    "data = scaler.fit_transform(df)"
   ]
  },
  {
   "cell_type": "markdown",
   "metadata": {},
   "source": [
    "Now we take a look at finding the optimal k using inertia and silhouette score analyses."
   ]
  },
  {
   "cell_type": "code",
   "execution_count": 8,
   "metadata": {},
   "outputs": [],
   "source": [
    "from sklearn.cluster import KMeans\n",
    "kmeans_per_k = [KMeans(n_clusters=k, random_state=42).fit(data) for k in range(1, 10)]\n",
    "inertias = [model.inertia_ for model in kmeans_per_k]"
   ]
  },
  {
   "cell_type": "code",
   "execution_count": 9,
   "metadata": {},
   "outputs": [
    {
     "data": {
      "text/plain": [
       "Text(0.5, 1.0, 'Inertias for Different Values of k')"
      ]
     },
     "execution_count": 9,
     "metadata": {},
     "output_type": "execute_result"
    },
    {
     "data": {
      "image/png": "[encoded data removed]",
      "text/plain": [
       "<Figure size 432x288 with 1 Axes>"
      ]
     },
     "metadata": {
      "needs_background": "light"
     },
     "output_type": "display_data"
    }
   ],
   "source": [
    "plt.plot(range(1, 10), inertias, \"bo-\")\n",
    "plt.xlabel('k')\n",
    "plt.ylabel('Inertia')\n",
    "plt.title('Inertias for Different Values of k')"
   ]
  },
  {
   "cell_type": "code",
   "execution_count": 10,
   "metadata": {},
   "outputs": [
    {
     "data": {
      "text/plain": [
       "Text(0.5, 1.0, 'Silhouette Scores for Different Values of k')"
      ]
     },
     "execution_count": 10,
     "metadata": {},
     "output_type": "execute_result"
    },
    {
     "data": {
      "image/png": "[encoded data removed]",
      "text/plain": [
       "<Figure size 432x288 with 1 Axes>"
      ]
     },
     "metadata": {
      "needs_background": "light"
     },
     "output_type": "display_data"
    }
   ],
   "source": [
    "from sklearn.metrics import silhouette_score\n",
    "silhouette_scores = [silhouette_score(data, model.labels_) for model in kmeans_per_k[1:]]\n",
    "plt.plot(range(2, 10), silhouette_scores, \"bo-\")\n",
    "plt.xlabel('k')\n",
    "plt.ylabel('Silhouette')\n",
    "plt.title('Silhouette Scores for Different Values of k')"
   ]
  },
  {
   "cell_type": "markdown",
   "metadata": {},
   "source": [
    "The optimal k appears to be 2 in both cases, as this corresponds to the highest positive value in our silhouette score and the elbow in our inertia analysis.\n",
    "\n",
    "Next, we will perform our KMeans clustering on the data. scikit-learn's KMeans only allows Euclidean distance. At first, I considered Manhattan distance to be more useful because of the discrepencies in values for our data (i.e., revenue is in millions/billions, other fields are much smaller). However, data standardization resolves some of these problems, making Euclidean distance a viable metric."
   ]
  },
  {
   "cell_type": "code",
   "execution_count": 11,
   "metadata": {},
   "outputs": [
    {
     "data": {
      "text/plain": [
       "array([1, 1, 0, ..., 0, 0, 0])"
      ]
     },
     "execution_count": 11,
     "metadata": {},
     "output_type": "execute_result"
    }
   ],
   "source": [
    "kmeans = KMeans(n_clusters = 2)\n",
    "kmeans.fit(data)\n",
    "\n",
    "y_pred = kmeans.fit_predict(data)\n",
    "y_pred"
   ]
  },
  {
   "cell_type": "code",
   "execution_count": 12,
   "metadata": {},
   "outputs": [
    {
     "data": {
      "text/plain": [
       "(array([[-0.47494004,  0.39574524, -0.34487794, -0.09626718,  0.20802257,\n",
       "         -0.33235181],\n",
       "        [ 0.04060013, -0.41154718,  0.33867361,  0.76535888, -0.2271213 ,\n",
       "         -0.39740084],\n",
       "        [-0.47494004,  0.053912  ,  0.29777703,  0.06943014, -0.66226517,\n",
       "         -0.24150749],\n",
       "        ...,\n",
       "        [-0.47494004, -0.22573744, -0.34487794, -0.69277752, -0.11833533,\n",
       "         -0.39403623],\n",
       "        [-0.47494004,  1.33209447, -0.34487794, -3.31079516,  2.16616998,\n",
       "         -0.27178893],\n",
       "        [-0.47494004, -0.35676823, -0.34487794, -0.09626718, -1.20619501,\n",
       "         -0.27291047]]),\n",
       " array([[ 4.91697788e-01,  1.44775584e+00,  2.79001069e+00,\n",
       "         -7.59056452e-01,  1.51345417e+00,  5.63757820e+00],\n",
       "        [ 1.61944193e+00,  9.40831129e-01,  1.86053288e+00,\n",
       "          3.15121523e-03,  6.43166436e-01,  2.27073058e+00],\n",
       "        [ 1.45833562e+00,  1.03431186e+00,  1.22810347e+00,\n",
       "          2.19035582e+00,  1.51345417e+00,  1.67968171e+00],\n",
       "        ...,\n",
       "        [ 5.88784639e+00,  7.60648292e-01,  4.10611506e-01,\n",
       "          1.09675352e+00,  4.25594501e-01,  5.79456021e-01],\n",
       "        [ 2.74718607e+00,  2.37208123e+00,  4.01796168e+00,\n",
       "          1.02569607e-01,  1.29588224e+00,  2.60606950e+00],\n",
       "        [ 7.90258784e+00,  3.21993252e+00,  4.73183407e+00,\n",
       "          1.49442708e+00, -1.18335335e-01,  1.17947717e+00]]))"
      ]
     },
     "execution_count": 12,
     "metadata": {},
     "output_type": "execute_result"
    }
   ],
   "source": [
    "data[(y_pred == 0)], data[(y_pred == 1)]"
   ]
  },
  {
   "cell_type": "markdown",
   "metadata": {},
   "source": [
    "Now, we employ our DBSCAN model."
   ]
  },
  {
   "cell_type": "code",
   "execution_count": 13,
   "metadata": {},
   "outputs": [
    {
     "data": {
      "text/plain": [
       "(1479.1945033073425, array([-1.,  1.,  2., ...,  2., 46.,  2.]))"
      ]
     },
     "execution_count": 13,
     "metadata": {},
     "output_type": "execute_result"
    }
   ],
   "source": [
    "import time\n",
    "start = time.time()\n",
    "my_dbscan = DBSCAN()\n",
    "eps = 2\n",
    "clusters = my_dbscan.fit(X=data, eps=eps, min_samples=5, distance_metric='euclidean')\n",
    "end = time.time()\n",
    "\n",
    "run_time = end - start\n",
    "run_time, clusters"
   ]
  },
  {
   "cell_type": "code",
   "execution_count": 14,
   "metadata": {},
   "outputs": [
    {
     "data": {
      "text/plain": [
       "(508, 100.0)"
      ]
     },
     "execution_count": 14,
     "metadata": {},
     "output_type": "execute_result"
    }
   ],
   "source": [
    "# Counting anomalies and number of clusters.\n",
    "(clusters < 0).sum(), max(clusters)"
   ]
  },
  {
   "cell_type": "code",
   "execution_count": 15,
   "metadata": {},
   "outputs": [
    {
     "data": {
      "text/plain": [
       "(array([[ 1.61944193,  0.94083113,  1.86053288,  0.00315122,  0.64316644,\n",
       "          2.27073058],\n",
       "        [ 1.87721202, -0.72726951,  1.57752968,  0.83163781, -0.11833533,\n",
       "          2.39970709],\n",
       "        [ 1.61944193,  0.52337001,  1.84811827,  0.30140639,  0.86073837,\n",
       "          1.5215453 ],\n",
       "        [ 1.94165454,  0.70059985,  1.73734473,  0.06943014,  0.64316644,\n",
       "          1.80080747],\n",
       "        [ 1.94165454,  0.47232726,  1.82254   ,  0.201988  ,  0.0992366 ,\n",
       "          2.4613915 ],\n",
       "        [ 1.13612301,  1.19929653,  1.83786373,  0.26826693,  0.31680853,\n",
       "          2.36381797],\n",
       "        [ 1.13612301,  1.21166464,  1.52495405,  0.06943014,  0.53438047,\n",
       "          2.14624021],\n",
       "        [ 1.78054823,  0.86895456,  1.46385649, -0.39452235, -0.11833533,\n",
       "          2.29989048],\n",
       "        [ 1.61944193,  0.55451933,  1.6328476 ,  0.53338264,  0.64316644,\n",
       "          2.46924225],\n",
       "        [ 1.45833562,  1.07036851,  1.65637738, -0.26196449,  0.7519524 ,\n",
       "          1.92641938],\n",
       "        [ 1.94165454,  1.07400387,  1.50155412,  0.5665221 , -0.66226517,\n",
       "          2.1619417 ]]),\n",
       " array([[ 0.33059148,  0.48718548,  0.97118219,  1.12989298,  1.40466821,\n",
       "          1.21648782],\n",
       "        [-0.44271878,  1.12916922, -0.33166361, -1.25614841, -1.31498097,\n",
       "         -0.32001493],\n",
       "        [-0.02384239,  0.40336688,  1.14927635,  0.99733513,  1.29588224,\n",
       "          1.28153684],\n",
       "        [ 0.42725527,  0.67598379,  0.67180315,  1.03047459,  1.62224014,\n",
       "          1.14134498],\n",
       "        [ 0.42725527,  1.36923408,  1.34725542,  1.42814816,  1.51345417,\n",
       "          1.11330661]]))"
      ]
     },
     "execution_count": 15,
     "metadata": {},
     "output_type": "execute_result"
    }
   ],
   "source": [
    "# Looking at two different clusters.\n",
    "data[clusters == 1], data[clusters == 64]"
   ]
  },
  {
   "cell_type": "code",
   "execution_count": 16,
   "metadata": {},
   "outputs": [
    {
     "name": "stdout",
     "output_type": "stream",
     "text": [
      "[-1  0  0 ...  0  0  0] 444\n",
      "3.8795018196105957\n"
     ]
    }
   ],
   "source": [
    "from sklearn.cluster import DBSCAN as skDBSCAN\n",
    "start = time.time()\n",
    "sk_dbscan = skDBSCAN(eps=1, min_samples=5, metric='euclidean')\n",
    "print(sk_dbscan.fit_predict(data), (sk_dbscan.fit_predict(data) < 0).sum())\n",
    "end = time.time()\n",
    "print(end - start)"
   ]
  },
  {
   "cell_type": "code",
   "execution_count": 17,
   "metadata": {},
   "outputs": [
    {
     "data": {
      "text/plain": [
       "674"
      ]
     },
     "execution_count": 17,
     "metadata": {},
     "output_type": "execute_result"
    }
   ],
   "source": [
    "(sk_dbscan.fit_predict(data) != y_pred).sum()"
   ]
  },
  {
   "cell_type": "markdown",
   "metadata": {},
   "source": [
    "# Part C"
   ]
  },
  {
   "cell_type": "code",
   "execution_count": 18,
   "metadata": {},
   "outputs": [
    {
     "data": {
      "text/html": [
       "<div>\n",
       "<style scoped>\n",
       "    .dataframe tbody tr th:only-of-type {\n",
       "        vertical-align: middle;\n",
       "    }\n",
       "\n",
       "    .dataframe tbody tr th {\n",
       "        vertical-align: top;\n",
       "    }\n",
       "\n",
       "    .dataframe thead th {\n",
       "        text-align: right;\n",
       "    }\n",
       "</style>\n",
       "<table border=\"1\" class=\"dataframe\">\n",
       "  <thead>\n",
       "    <tr style=\"text-align: right;\">\n",
       "      <th></th>\n",
       "      <th>Player</th>\n",
       "      <th>Season</th>\n",
       "      <th>Team</th>\n",
       "      <th>S/C</th>\n",
       "      <th>Pos</th>\n",
       "      <th>GP</th>\n",
       "      <th>G</th>\n",
       "      <th>A</th>\n",
       "      <th>P</th>\n",
       "      <th>+/-</th>\n",
       "      <th>...</th>\n",
       "      <th>EVP</th>\n",
       "      <th>PPG</th>\n",
       "      <th>PPP</th>\n",
       "      <th>SHG</th>\n",
       "      <th>SHP</th>\n",
       "      <th>GWG</th>\n",
       "      <th>S</th>\n",
       "      <th>S%</th>\n",
       "      <th>TOI/GP</th>\n",
       "      <th>FOW%</th>\n",
       "    </tr>\n",
       "  </thead>\n",
       "  <tbody>\n",
       "    <tr>\n",
       "      <th>0</th>\n",
       "      <td>Martin St. Louis</td>\n",
       "      <td>20032004</td>\n",
       "      <td>TBL</td>\n",
       "      <td>L</td>\n",
       "      <td>R</td>\n",
       "      <td>82</td>\n",
       "      <td>38</td>\n",
       "      <td>56</td>\n",
       "      <td>94</td>\n",
       "      <td>35</td>\n",
       "      <td>...</td>\n",
       "      <td>53</td>\n",
       "      <td>8</td>\n",
       "      <td>30</td>\n",
       "      <td>8</td>\n",
       "      <td>11</td>\n",
       "      <td>7</td>\n",
       "      <td>212</td>\n",
       "      <td>17.9</td>\n",
       "      <td>20:35</td>\n",
       "      <td>33.3</td>\n",
       "    </tr>\n",
       "    <tr>\n",
       "      <th>1</th>\n",
       "      <td>Ilya Kovalchuk</td>\n",
       "      <td>20032004</td>\n",
       "      <td>ATL</td>\n",
       "      <td>R</td>\n",
       "      <td>L</td>\n",
       "      <td>81</td>\n",
       "      <td>41</td>\n",
       "      <td>46</td>\n",
       "      <td>87</td>\n",
       "      <td>-10</td>\n",
       "      <td>...</td>\n",
       "      <td>52</td>\n",
       "      <td>16</td>\n",
       "      <td>33</td>\n",
       "      <td>1</td>\n",
       "      <td>2</td>\n",
       "      <td>6</td>\n",
       "      <td>341</td>\n",
       "      <td>12</td>\n",
       "      <td>23:06</td>\n",
       "      <td>32.1</td>\n",
       "    </tr>\n",
       "    <tr>\n",
       "      <th>2</th>\n",
       "      <td>Joe Sakic</td>\n",
       "      <td>20032004</td>\n",
       "      <td>COL</td>\n",
       "      <td>L</td>\n",
       "      <td>C</td>\n",
       "      <td>81</td>\n",
       "      <td>33</td>\n",
       "      <td>54</td>\n",
       "      <td>87</td>\n",
       "      <td>11</td>\n",
       "      <td>...</td>\n",
       "      <td>49</td>\n",
       "      <td>13</td>\n",
       "      <td>37</td>\n",
       "      <td>1</td>\n",
       "      <td>1</td>\n",
       "      <td>3</td>\n",
       "      <td>253</td>\n",
       "      <td>13</td>\n",
       "      <td>20:16</td>\n",
       "      <td>52.6</td>\n",
       "    </tr>\n",
       "    <tr>\n",
       "      <th>3</th>\n",
       "      <td>Markus Naslund</td>\n",
       "      <td>20032004</td>\n",
       "      <td>VAN</td>\n",
       "      <td>L</td>\n",
       "      <td>L</td>\n",
       "      <td>78</td>\n",
       "      <td>35</td>\n",
       "      <td>49</td>\n",
       "      <td>84</td>\n",
       "      <td>24</td>\n",
       "      <td>...</td>\n",
       "      <td>58</td>\n",
       "      <td>5</td>\n",
       "      <td>26</td>\n",
       "      <td>0</td>\n",
       "      <td>0</td>\n",
       "      <td>6</td>\n",
       "      <td>296</td>\n",
       "      <td>11.8</td>\n",
       "      <td>19:23</td>\n",
       "      <td>35.7</td>\n",
       "    </tr>\n",
       "    <tr>\n",
       "      <th>4</th>\n",
       "      <td>Marian Hossa</td>\n",
       "      <td>20032004</td>\n",
       "      <td>OTT</td>\n",
       "      <td>L</td>\n",
       "      <td>R</td>\n",
       "      <td>81</td>\n",
       "      <td>36</td>\n",
       "      <td>46</td>\n",
       "      <td>82</td>\n",
       "      <td>4</td>\n",
       "      <td>...</td>\n",
       "      <td>42</td>\n",
       "      <td>14</td>\n",
       "      <td>39</td>\n",
       "      <td>1</td>\n",
       "      <td>1</td>\n",
       "      <td>5</td>\n",
       "      <td>233</td>\n",
       "      <td>15.4</td>\n",
       "      <td>18:37</td>\n",
       "      <td>40</td>\n",
       "    </tr>\n",
       "    <tr>\n",
       "      <th>...</th>\n",
       "      <td>...</td>\n",
       "      <td>...</td>\n",
       "      <td>...</td>\n",
       "      <td>...</td>\n",
       "      <td>...</td>\n",
       "      <td>...</td>\n",
       "      <td>...</td>\n",
       "      <td>...</td>\n",
       "      <td>...</td>\n",
       "      <td>...</td>\n",
       "      <td>...</td>\n",
       "      <td>...</td>\n",
       "      <td>...</td>\n",
       "      <td>...</td>\n",
       "      <td>...</td>\n",
       "      <td>...</td>\n",
       "      <td>...</td>\n",
       "      <td>...</td>\n",
       "      <td>...</td>\n",
       "      <td>...</td>\n",
       "      <td>...</td>\n",
       "    </tr>\n",
       "    <tr>\n",
       "      <th>911</th>\n",
       "      <td>Melvin Angelstad</td>\n",
       "      <td>20032004</td>\n",
       "      <td>WSH</td>\n",
       "      <td>L</td>\n",
       "      <td>L</td>\n",
       "      <td>2</td>\n",
       "      <td>0</td>\n",
       "      <td>0</td>\n",
       "      <td>0</td>\n",
       "      <td>0</td>\n",
       "      <td>...</td>\n",
       "      <td>0</td>\n",
       "      <td>0</td>\n",
       "      <td>0</td>\n",
       "      <td>0</td>\n",
       "      <td>0</td>\n",
       "      <td>0</td>\n",
       "      <td>1</td>\n",
       "      <td>0</td>\n",
       "      <td>13:00</td>\n",
       "      <td>--</td>\n",
       "    </tr>\n",
       "    <tr>\n",
       "      <th>912</th>\n",
       "      <td>Patrick Leahy</td>\n",
       "      <td>20032004</td>\n",
       "      <td>BOS</td>\n",
       "      <td>R</td>\n",
       "      <td>R</td>\n",
       "      <td>6</td>\n",
       "      <td>0</td>\n",
       "      <td>0</td>\n",
       "      <td>0</td>\n",
       "      <td>1</td>\n",
       "      <td>...</td>\n",
       "      <td>0</td>\n",
       "      <td>0</td>\n",
       "      <td>0</td>\n",
       "      <td>0</td>\n",
       "      <td>0</td>\n",
       "      <td>0</td>\n",
       "      <td>2</td>\n",
       "      <td>0</td>\n",
       "      <td>5:27</td>\n",
       "      <td>--</td>\n",
       "    </tr>\n",
       "    <tr>\n",
       "      <th>913</th>\n",
       "      <td>Denis Hamel</td>\n",
       "      <td>20032004</td>\n",
       "      <td>OTT</td>\n",
       "      <td>L</td>\n",
       "      <td>L</td>\n",
       "      <td>5</td>\n",
       "      <td>0</td>\n",
       "      <td>0</td>\n",
       "      <td>0</td>\n",
       "      <td>-3</td>\n",
       "      <td>...</td>\n",
       "      <td>0</td>\n",
       "      <td>0</td>\n",
       "      <td>0</td>\n",
       "      <td>0</td>\n",
       "      <td>0</td>\n",
       "      <td>0</td>\n",
       "      <td>6</td>\n",
       "      <td>0</td>\n",
       "      <td>6:16</td>\n",
       "      <td>100</td>\n",
       "    </tr>\n",
       "    <tr>\n",
       "      <th>914</th>\n",
       "      <td>Blake Sloan</td>\n",
       "      <td>20032004</td>\n",
       "      <td>DAL</td>\n",
       "      <td>R</td>\n",
       "      <td>R</td>\n",
       "      <td>28</td>\n",
       "      <td>0</td>\n",
       "      <td>0</td>\n",
       "      <td>0</td>\n",
       "      <td>-1</td>\n",
       "      <td>...</td>\n",
       "      <td>0</td>\n",
       "      <td>0</td>\n",
       "      <td>0</td>\n",
       "      <td>0</td>\n",
       "      <td>0</td>\n",
       "      <td>0</td>\n",
       "      <td>23</td>\n",
       "      <td>0</td>\n",
       "      <td>7:11</td>\n",
       "      <td>0</td>\n",
       "    </tr>\n",
       "    <tr>\n",
       "      <th>915</th>\n",
       "      <td>Jason MacDonald</td>\n",
       "      <td>20032004</td>\n",
       "      <td>NYR</td>\n",
       "      <td>R</td>\n",
       "      <td>R</td>\n",
       "      <td>4</td>\n",
       "      <td>0</td>\n",
       "      <td>0</td>\n",
       "      <td>0</td>\n",
       "      <td>-1</td>\n",
       "      <td>...</td>\n",
       "      <td>0</td>\n",
       "      <td>0</td>\n",
       "      <td>0</td>\n",
       "      <td>0</td>\n",
       "      <td>0</td>\n",
       "      <td>0</td>\n",
       "      <td>3</td>\n",
       "      <td>0</td>\n",
       "      <td>8:11</td>\n",
       "      <td>--</td>\n",
       "    </tr>\n",
       "  </tbody>\n",
       "</table>\n",
       "<p>916 rows × 23 columns</p>\n",
       "</div>"
      ],
      "text/plain": [
       "               Player    Season Team S/C Pos  GP   G   A   P  +/-  ...  EVP  \\\n",
       "0    Martin St. Louis  20032004  TBL   L   R  82  38  56  94   35  ...   53   \n",
       "1      Ilya Kovalchuk  20032004  ATL   R   L  81  41  46  87  -10  ...   52   \n",
       "2           Joe Sakic  20032004  COL   L   C  81  33  54  87   11  ...   49   \n",
       "3      Markus Naslund  20032004  VAN   L   L  78  35  49  84   24  ...   58   \n",
       "4        Marian Hossa  20032004  OTT   L   R  81  36  46  82    4  ...   42   \n",
       "..                ...       ...  ...  ..  ..  ..  ..  ..  ..  ...  ...  ...   \n",
       "911  Melvin Angelstad  20032004  WSH   L   L   2   0   0   0    0  ...    0   \n",
       "912     Patrick Leahy  20032004  BOS   R   R   6   0   0   0    1  ...    0   \n",
       "913       Denis Hamel  20032004  OTT   L   L   5   0   0   0   -3  ...    0   \n",
       "914       Blake Sloan  20032004  DAL   R   R  28   0   0   0   -1  ...    0   \n",
       "915   Jason MacDonald  20032004  NYR   R   R   4   0   0   0   -1  ...    0   \n",
       "\n",
       "     PPG  PPP  SHG  SHP  GWG    S    S%  TOI/GP  FOW%  \n",
       "0      8   30    8   11    7  212  17.9   20:35  33.3  \n",
       "1     16   33    1    2    6  341    12   23:06  32.1  \n",
       "2     13   37    1    1    3  253    13   20:16  52.6  \n",
       "3      5   26    0    0    6  296  11.8   19:23  35.7  \n",
       "4     14   39    1    1    5  233  15.4   18:37    40  \n",
       "..   ...  ...  ...  ...  ...  ...   ...     ...   ...  \n",
       "911    0    0    0    0    0    1     0   13:00    --  \n",
       "912    0    0    0    0    0    2     0    5:27    --  \n",
       "913    0    0    0    0    0    6     0    6:16   100  \n",
       "914    0    0    0    0    0   23     0    7:11     0  \n",
       "915    0    0    0    0    0    3     0    8:11    --  \n",
       "\n",
       "[916 rows x 23 columns]"
      ]
     },
     "execution_count": 18,
     "metadata": {},
     "output_type": "execute_result"
    }
   ],
   "source": [
    "df = pd.read_csv('NHL-2003-2004.csv', sep=',')\n",
    "df"
   ]
  },
  {
   "cell_type": "code",
   "execution_count": 19,
   "metadata": {},
   "outputs": [
    {
     "name": "stdout",
     "output_type": "stream",
     "text": [
      "Rows: 916\n",
      "Columns: 23\n"
     ]
    }
   ],
   "source": [
    "print('Rows: ' + str(df.shape[0]))\n",
    "print('Columns: ' + str(df.shape[1]))"
   ]
  },
  {
   "cell_type": "code",
   "execution_count": 20,
   "metadata": {},
   "outputs": [],
   "source": [
    "df = df.replace('--', 0.0)\n",
    "df['S%'] = df['S%'].astype(float)"
   ]
  },
  {
   "cell_type": "code",
   "execution_count": 21,
   "metadata": {},
   "outputs": [
    {
     "data": {
      "text/plain": [
       "(array([[82. , 38. , 17.9],\n",
       "        [81. , 41. , 12. ],\n",
       "        [81. , 33. , 13. ],\n",
       "        ...,\n",
       "        [ 5. ,  0. ,  0. ],\n",
       "        [28. ,  0. ,  0. ],\n",
       "        [ 4. ,  0. ,  0. ]]),\n",
       " array([[ 94,  35,  24],\n",
       "        [ 87, -10,  63],\n",
       "        [ 87,  11,  42],\n",
       "        ...,\n",
       "        [  0,  -3,   0],\n",
       "        [  0,  -1,   7],\n",
       "        [  0,  -1,  19]], dtype=int64))"
      ]
     },
     "execution_count": 21,
     "metadata": {},
     "output_type": "execute_result"
    }
   ],
   "source": [
    "X1 = df[['GP', 'G', 'S%']].to_numpy()\n",
    "X2 = df[['P', '+/-', 'PIM']].to_numpy()\n",
    "X1, X2"
   ]
  },
  {
   "cell_type": "markdown",
   "metadata": {},
   "source": [
    "Now we run scikit-learn's LocalOutlierFactor on our data, varying k's to find an optimal one."
   ]
  },
  {
   "cell_type": "code",
   "execution_count": 22,
   "metadata": {},
   "outputs": [
    {
     "name": "stdout",
     "output_type": "stream",
     "text": [
      "X1 Anomalies:  [232 206 156 129 108 101  99 101  96  93 102  90  96 100]\n",
      "X2 Anomalies:  [232 206 156 129 108 101  99 101  96  93 102  90  96 100]\n"
     ]
    }
   ],
   "source": [
    "from sklearn.neighbors import LocalOutlierFactor\n",
    "\n",
    "# Our range of k's.\n",
    "k_list = np.arange(1, 15)\n",
    "\n",
    "# Initialize X1 and X2 LOF matrices.\n",
    "X1_neg_lof = np.ones((X1.shape[0], len(k_list))) * 99999\n",
    "X2_neg_lof = np.ones((X2.shape[0], len(k_list))) * 99999\n",
    "\n",
    "for i in range(k_list.size):\n",
    "    X1_lof = LocalOutlierFactor(n_neighbors=k_list[i], algorithm='auto', contamination='auto', n_jobs=-1)\n",
    "    X2_lof = LocalOutlierFactor(n_neighbors=k_list[i], algorithm='auto', contamination='auto', n_jobs=-1)\n",
    "    X1_lof.fit(X1)\n",
    "    X2_lof.fit(X2)\n",
    "    \n",
    "    for j in range(len(X1_lof.negative_outlier_factor_)):\n",
    "        X1_neg_lof[j, i] = X1_lof.negative_outlier_factor_[j]\n",
    "    for j in range(len(X2_lof.negative_outlier_factor_)):\n",
    "        X2_neg_lof[j, i] = X2_lof.negative_outlier_factor_[j]\n",
    "        \n",
    "# Here we report the number of anomalies for all k's in our range. We choose 2 as the cut-off because anomalies should\n",
    "# be much greater than 1, and since we have some pretty big anomalies, counting values just slightly larger than 1 seems\n",
    "# bad, and results in over half of our data being anomalous for most k-values.\n",
    "X1_anom_count = (np.abs(X1_neg_lof) > 1.2).sum(axis=0)\n",
    "X2_anom_count = (np.abs(X1_neg_lof) > 1.2).sum(axis=0)\n",
    "\n",
    "print('X1 Anomalies: ', X1_anom_count)\n",
    "print('X2 Anomalies: ', X2_anom_count)"
   ]
  },
  {
   "cell_type": "markdown",
   "metadata": {},
   "source": [
    "From the above analysis, we see that our number of anomalies seems is high at lower k's, but stabilizes at around k=6, at which point it sticks close to around 10% of the data. We choose k=7 as our optimal value below.\n",
    "\n",
    "I was not sure if \"first 3-5\" outliers meant the 3-5 lowest-valued outliers, or the first ones that appear. The isolation forest seems only capable of doing the latter, but I have done both for LOF."
   ]
  },
  {
   "cell_type": "code",
   "execution_count": 23,
   "metadata": {},
   "outputs": [
    {
     "name": "stdout",
     "output_type": "stream",
     "text": [
      "\t\t  Index   Negative LOF\n",
      "X1 Outlier Rank 1: 889 -5555555556.555555\n",
      "X1 Outlier Rank 2: 589 -5555555556.555555\n",
      "X1 Outlier Rank 3: 758 -5555555556.555555\n",
      "X2 Outlier Rank 1: 851 -8888888889.88889\n",
      "X2 Outlier Rank 2: 912 -8888888889.88889\n",
      "X2 Outlier Rank 3: 781 -8641975309.609562\n",
      "\n",
      "\n",
      "\t\t    Index\n",
      "X1 Outlier Number 1: 0\n",
      "X1 Outlier Number 2: 1\n",
      "X1 Outlier Number 3: 3\n",
      "X2 Outlier Number 1: 0\n",
      "X2 Outlier Number 2: 1\n",
      "X2 Outlier Number 3: 2\n"
     ]
    }
   ],
   "source": [
    "X1_optimal = X1_neg_lof[:, 8]\n",
    "X2_optimal = X2_neg_lof[:, 8]\n",
    "\n",
    "# Search optimal k for top 3 outliers.\n",
    "X1_tops = X1_optimal.argsort()\n",
    "X2_tops = X2_optimal.argsort()\n",
    "\n",
    "print('\\t\\t  Index   Negative LOF')\n",
    "for i in range(0, 3):\n",
    "    print('X1 Outlier Rank ' + str(i+1) + ':', X1_tops[i], X1_optimal[X1_tops[i]])\n",
    "for i in range(0, 3):    \n",
    "    print('X2 Outlier Rank ' + str(i+1) + ':', X2_tops[i], X2_optimal[X2_tops[i]])\n",
    "    \n",
    "# Values with LOF > 1 are anomalous.\n",
    "X1_firsts = np.where(np.abs(X1_optimal) > 1)\n",
    "X2_firsts = np.where(np.abs(X2_optimal) > 1)\n",
    "print('\\n')\n",
    "print('\\t\\t    Index')\n",
    "for i in range(0, 3):\n",
    "    print('X1 Outlier Number ' + str(i+1) + ':', X1_firsts[0][i])\n",
    "    \n",
    "for i in range(0, 3):    \n",
    "    print('X2 Outlier Number ' + str(i+1) + ':', X2_firsts[0][i])"
   ]
  },
  {
   "cell_type": "markdown",
   "metadata": {},
   "source": [
    "As a sanity check, we can look into the corresponding indices, and see that for the features we chose they have the same values, which explains the identical LOF scores."
   ]
  },
  {
   "cell_type": "code",
   "execution_count": 24,
   "metadata": {},
   "outputs": [
    {
     "name": "stdout",
     "output_type": "stream",
     "text": [
      "Rank 1 Data: [8. 0. 0.]\n",
      "Rank 1 Data: [8. 0. 0.]\n",
      "Rank 1 Data: [8. 0. 0.]\n",
      "Rank 1 Data: [0 1 0]\n",
      "Rank 1 Data: [0 1 0]\n",
      "Rank 1 Data: [ 1 -1  2]\n"
     ]
    }
   ],
   "source": [
    "print('Rank 1 Data:', X1[889])\n",
    "print('Rank 1 Data:', X1[589])\n",
    "print('Rank 1 Data:', X1[758])\n",
    "print('Rank 1 Data:', X2[851])\n",
    "print('Rank 1 Data:', X2[912])\n",
    "print('Rank 1 Data:', X2[781])"
   ]
  },
  {
   "cell_type": "markdown",
   "metadata": {},
   "source": [
    "We will compare the findings of the LOF ranking to one derived from scikit-learn's isolation forest."
   ]
  },
  {
   "cell_type": "code",
   "execution_count": 25,
   "metadata": {},
   "outputs": [
    {
     "name": "stderr",
     "output_type": "stream",
     "text": [
      "[Parallel(n_jobs=16)]: Using backend ThreadingBackend with 16 concurrent workers.\n",
      "[Parallel(n_jobs=16)]: Done   2 out of  16 | elapsed:    0.0s remaining:    0.6s\n",
      "[Parallel(n_jobs=16)]: Done  16 out of  16 | elapsed:    0.0s finished\n",
      "[Parallel(n_jobs=16)]: Using backend ThreadingBackend with 16 concurrent workers.\n",
      "[Parallel(n_jobs=16)]: Done   2 out of  16 | elapsed:    0.0s remaining:    0.5s\n",
      "[Parallel(n_jobs=16)]: Done  16 out of  16 | elapsed:    0.0s finished\n"
     ]
    },
    {
     "data": {
      "text/plain": [
       "(array([-1, -1, -1, -1, -1, -1, -1,  1, -1,  1, -1, -1, -1, -1, -1, -1,  1,\n",
       "         1, -1,  1, -1, -1, -1, -1,  1, -1, -1, -1, -1, -1,  1,  1, -1,  1,\n",
       "         1,  1, -1,  1,  1,  1, -1, -1, -1, -1,  1,  1,  1,  1,  1,  1, -1,\n",
       "         1,  1,  1,  1,  1,  1,  1,  1,  1,  1,  1,  1,  1, -1,  1,  1,  1,\n",
       "         1, -1,  1,  1,  1,  1,  1,  1,  1,  1,  1, -1,  1,  1,  1, -1,  1,\n",
       "         1, -1, -1,  1,  1,  1, -1,  1,  1,  1,  1,  1,  1,  1, -1,  1,  1,\n",
       "         1,  1,  1,  1,  1,  1,  1,  1,  1,  1,  1,  1,  1,  1,  1, -1,  1,\n",
       "         1,  1,  1,  1,  1,  1,  1,  1,  1,  1,  1,  1,  1,  1, -1,  1, -1,\n",
       "         1,  1,  1,  1,  1,  1,  1,  1,  1,  1,  1,  1,  1,  1,  1,  1,  1,\n",
       "         1,  1, -1,  1,  1,  1,  1,  1,  1,  1,  1,  1,  1, -1,  1,  1,  1,\n",
       "         1,  1,  1,  1,  1,  1,  1,  1,  1,  1,  1,  1,  1,  1,  1,  1,  1,\n",
       "         1,  1,  1,  1,  1,  1,  1,  1,  1,  1,  1,  1,  1,  1,  1,  1,  1,\n",
       "         1,  1,  1,  1,  1,  1,  1,  1,  1,  1,  1,  1,  1,  1, -1,  1,  1,\n",
       "         1,  1,  1,  1,  1,  1,  1,  1,  1,  1,  1,  1,  1,  1,  1,  1,  1,\n",
       "         1,  1,  1,  1,  1,  1,  1,  1,  1,  1,  1,  1,  1,  1,  1,  1, -1,\n",
       "        -1,  1,  1,  1,  1,  1,  1,  1,  1,  1,  1,  1,  1,  1,  1,  1,  1,\n",
       "         1,  1,  1,  1,  1,  1,  1,  1,  1,  1, -1,  1,  1,  1,  1,  1,  1,\n",
       "         1,  1,  1,  1,  1,  1,  1,  1,  1,  1, -1, -1,  1,  1,  1,  1,  1,\n",
       "         1,  1,  1,  1,  1,  1,  1, -1,  1,  1,  1,  1,  1,  1,  1,  1,  1,\n",
       "         1,  1,  1,  1,  1,  1, -1,  1,  1,  1,  1,  1,  1,  1,  1,  1,  1,\n",
       "         1,  1,  1,  1,  1,  1,  1,  1,  1,  1,  1,  1,  1,  1,  1,  1,  1,\n",
       "         1,  1,  1,  1,  1,  1,  1,  1,  1,  1,  1,  1,  1,  1,  1,  1,  1,\n",
       "         1,  1,  1,  1,  1,  1,  1,  1,  1,  1, -1,  1,  1,  1,  1,  1,  1,\n",
       "         1,  1,  1,  1,  1,  1,  1,  1,  1,  1,  1,  1,  1,  1,  1,  1,  1,\n",
       "         1,  1,  1,  1,  1,  1, -1,  1,  1,  1,  1,  1,  1,  1,  1,  1,  1,\n",
       "         1,  1,  1,  1,  1,  1,  1,  1,  1,  1,  1,  1,  1,  1,  1,  1, -1,\n",
       "         1,  1,  1,  1,  1,  1,  1,  1,  1,  1,  1,  1,  1,  1,  1,  1,  1,\n",
       "         1,  1,  1,  1,  1,  1,  1,  1, -1,  1,  1,  1,  1,  1,  1,  1,  1,\n",
       "         1,  1,  1,  1,  1,  1,  1,  1,  1,  1, -1,  1,  1, -1,  1, -1,  1,\n",
       "         1,  1,  1,  1,  1,  1,  1,  1,  1,  1,  1,  1,  1,  1,  1,  1,  1,\n",
       "        -1,  1,  1,  1,  1,  1,  1,  1,  1,  1,  1, -1, -1, -1,  1,  1, -1,\n",
       "         1,  1,  1,  1,  1,  1,  1,  1,  1,  1,  1,  1,  1,  1,  1,  1,  1,\n",
       "         1,  1,  1,  1,  1,  1,  1,  1,  1,  1,  1,  1,  1,  1,  1,  1,  1,\n",
       "         1,  1,  1,  1,  1,  1,  1,  1,  1,  1,  1,  1,  1,  1,  1,  1,  1,\n",
       "         1,  1,  1,  1,  1,  1,  1,  1,  1, -1, -1,  1,  1,  1,  1, -1,  1,\n",
       "         1,  1,  1,  1,  1,  1,  1,  1,  1,  1,  1,  1,  1,  1,  1,  1,  1,\n",
       "         1,  1,  1,  1, -1,  1, -1,  1,  1,  1,  1, -1,  1,  1,  1,  1,  1,\n",
       "         1,  1,  1,  1,  1,  1,  1,  1,  1,  1,  1,  1,  1, -1,  1,  1,  1,\n",
       "         1, -1,  1,  1,  1,  1, -1, -1,  1,  1, -1,  1,  1,  1,  1,  1,  1,\n",
       "         1,  1,  1,  1,  1,  1,  1,  1,  1,  1,  1,  1,  1,  1,  1,  1,  1,\n",
       "         1,  1, -1,  1,  1,  1,  1, -1,  1,  1,  1,  1,  1, -1,  1,  1,  1,\n",
       "         1,  1, -1,  1,  1, -1,  1,  1,  1,  1, -1, -1,  1,  1,  1, -1,  1,\n",
       "         1,  1,  1,  1,  1,  1,  1,  1,  1,  1,  1,  1,  1,  1,  1,  1,  1,\n",
       "         1, -1,  1,  1, -1, -1, -1, -1,  1, -1, -1, -1, -1,  1,  1,  1,  1,\n",
       "         1,  1,  1,  1,  1,  1,  1,  1,  1,  1,  1,  1,  1,  1,  1,  1,  1,\n",
       "         1,  1,  1,  1,  1,  1,  1,  1,  1,  1,  1,  1,  1,  1,  1,  1,  1,\n",
       "         1,  1,  1,  1,  1,  1,  1,  1,  1,  1,  1,  1,  1,  1,  1,  1,  1,\n",
       "         1,  1,  1,  1,  1,  1,  1,  1,  1,  1,  1,  1,  1,  1,  1,  1,  1,\n",
       "         1,  1,  1,  1,  1,  1,  1,  1,  1,  1,  1,  1,  1,  1,  1,  1,  1,\n",
       "         1,  1,  1,  1,  1,  1,  1,  1,  1,  1,  1,  1,  1,  1,  1,  1,  1,\n",
       "         1,  1,  1,  1,  1,  1,  1,  1,  1,  1,  1,  1,  1,  1,  1,  1,  1,\n",
       "         1,  1,  1,  1,  1,  1,  1,  1,  1,  1,  1,  1,  1,  1,  1,  1,  1,\n",
       "         1,  1,  1,  1,  1,  1,  1,  1,  1,  1,  1,  1,  1,  1,  1,  1,  1,\n",
       "         1,  1,  1,  1,  1,  1,  1,  1,  1,  1,  1,  1,  1,  1,  1]),\n",
       " array([-1, -1, -1, -1, -1, -1, -1, -1, -1, -1, -1, -1, -1, -1, -1, -1, -1,\n",
       "        -1, -1, -1, -1,  1, -1, -1, -1, -1, -1,  1, -1,  1,  1,  1,  1,  1,\n",
       "        -1,  1, -1,  1, -1, -1, -1, -1, -1,  1, -1, -1,  1, -1, -1, -1,  1,\n",
       "         1,  1,  1,  1,  1,  1, -1,  1, -1,  1,  1, -1, -1,  1,  1,  1,  1,\n",
       "         1,  1, -1,  1, -1,  1,  1,  1,  1,  1,  1,  1, -1,  1,  1, -1,  1,\n",
       "         1,  1,  1,  1,  1,  1,  1,  1,  1,  1,  1, -1,  1,  1, -1,  1,  1,\n",
       "         1,  1,  1, -1,  1,  1,  1, -1, -1, -1,  1,  1,  1, -1,  1,  1,  1,\n",
       "         1,  1,  1,  1,  1,  1,  1,  1,  1,  1,  1,  1, -1, -1,  1,  1,  1,\n",
       "        -1,  1,  1,  1,  1,  1,  1,  1,  1,  1,  1,  1,  1,  1,  1,  1,  1,\n",
       "         1,  1,  1,  1,  1,  1,  1,  1,  1,  1,  1,  1,  1,  1,  1,  1,  1,\n",
       "         1,  1,  1,  1, -1,  1,  1,  1,  1,  1,  1,  1,  1,  1,  1,  1, -1,\n",
       "         1,  1,  1,  1,  1,  1,  1,  1,  1,  1, -1,  1,  1,  1,  1,  1,  1,\n",
       "         1,  1,  1,  1,  1,  1,  1,  1,  1,  1,  1,  1,  1,  1,  1,  1,  1,\n",
       "         1,  1,  1,  1,  1,  1,  1,  1,  1,  1,  1,  1,  1,  1, -1,  1,  1,\n",
       "         1,  1,  1,  1,  1, -1,  1,  1,  1,  1, -1,  1,  1,  1,  1,  1,  1,\n",
       "         1,  1,  1,  1,  1,  1,  1,  1,  1,  1,  1,  1,  1,  1,  1, -1,  1,\n",
       "         1,  1,  1,  1,  1, -1,  1,  1,  1,  1,  1,  1,  1,  1,  1,  1,  1,\n",
       "         1,  1,  1,  1,  1,  1,  1,  1,  1,  1,  1,  1,  1,  1,  1,  1,  1,\n",
       "         1,  1,  1,  1,  1,  1,  1,  1,  1,  1,  1,  1,  1,  1,  1,  1, -1,\n",
       "         1,  1,  1,  1,  1,  1,  1,  1,  1,  1,  1,  1,  1,  1,  1,  1,  1,\n",
       "         1,  1,  1,  1,  1,  1,  1, -1,  1,  1,  1,  1,  1,  1,  1,  1,  1,\n",
       "         1,  1, -1,  1,  1,  1,  1,  1, -1,  1,  1,  1,  1,  1,  1,  1,  1,\n",
       "         1, -1,  1,  1,  1,  1,  1,  1,  1,  1,  1,  1,  1,  1,  1,  1,  1,\n",
       "         1,  1,  1,  1,  1,  1,  1, -1,  1,  1,  1,  1,  1,  1,  1,  1,  1,\n",
       "         1,  1,  1,  1,  1,  1,  1,  1,  1,  1,  1,  1,  1,  1, -1,  1,  1,\n",
       "         1,  1,  1,  1,  1,  1,  1, -1,  1,  1,  1,  1,  1,  1,  1,  1,  1,\n",
       "         1,  1,  1, -1,  1,  1,  1,  1,  1,  1,  1,  1,  1,  1,  1,  1, -1,\n",
       "         1,  1,  1,  1,  1,  1,  1,  1,  1,  1,  1,  1,  1, -1,  1, -1,  1,\n",
       "         1,  1,  1,  1,  1,  1,  1,  1,  1,  1,  1,  1,  1,  1,  1,  1,  1,\n",
       "         1,  1,  1,  1,  1,  1,  1,  1,  1,  1,  1, -1,  1,  1,  1,  1,  1,\n",
       "         1,  1,  1,  1,  1,  1,  1, -1,  1,  1,  1, -1,  1,  1,  1,  1,  1,\n",
       "         1,  1,  1,  1,  1,  1,  1,  1,  1, -1,  1,  1,  1,  1,  1,  1,  1,\n",
       "         1,  1,  1,  1,  1,  1,  1,  1,  1,  1,  1,  1,  1,  1,  1,  1,  1,\n",
       "         1,  1,  1,  1,  1,  1, -1,  1,  1, -1,  1,  1,  1,  1,  1,  1,  1,\n",
       "         1,  1,  1,  1,  1,  1,  1,  1,  1,  1,  1,  1,  1,  1,  1,  1,  1,\n",
       "         1,  1,  1, -1,  1,  1,  1,  1,  1, -1,  1,  1,  1,  1,  1,  1,  1,\n",
       "         1,  1,  1,  1, -1,  1,  1, -1,  1, -1,  1,  1,  1,  1,  1,  1,  1,\n",
       "         1,  1,  1,  1, -1,  1,  1,  1,  1,  1,  1,  1,  1,  1,  1,  1,  1,\n",
       "         1, -1,  1,  1,  1,  1,  1,  1,  1,  1,  1,  1,  1,  1,  1,  1,  1,\n",
       "         1,  1,  1,  1,  1,  1,  1,  1,  1,  1, -1,  1,  1,  1,  1,  1,  1,\n",
       "         1,  1,  1,  1,  1,  1,  1,  1,  1,  1,  1,  1,  1,  1,  1,  1,  1,\n",
       "         1,  1,  1,  1,  1,  1,  1,  1,  1, -1,  1,  1,  1,  1,  1,  1,  1,\n",
       "         1,  1,  1,  1,  1,  1,  1,  1,  1,  1,  1,  1,  1,  1,  1,  1,  1,\n",
       "         1,  1,  1,  1,  1,  1,  1,  1,  1,  1,  1,  1,  1,  1,  1,  1,  1,\n",
       "         1,  1,  1,  1,  1,  1,  1,  1,  1,  1,  1,  1,  1,  1,  1,  1,  1,\n",
       "         1,  1,  1,  1,  1,  1,  1,  1,  1,  1,  1,  1,  1,  1,  1,  1,  1,\n",
       "         1,  1,  1,  1,  1,  1,  1,  1,  1,  1,  1,  1,  1,  1,  1,  1,  1,\n",
       "         1,  1,  1,  1,  1,  1,  1,  1,  1,  1,  1,  1,  1,  1,  1,  1,  1,\n",
       "         1,  1,  1,  1,  1,  1,  1,  1,  1,  1,  1,  1,  1,  1,  1,  1,  1,\n",
       "         1,  1,  1,  1,  1,  1,  1,  1,  1,  1,  1,  1,  1,  1,  1,  1,  1,\n",
       "         1,  1,  1,  1,  1,  1,  1,  1,  1,  1,  1,  1,  1,  1,  1,  1,  1,\n",
       "         1,  1,  1,  1,  1,  1,  1,  1,  1,  1,  1,  1,  1,  1,  1,  1,  1,\n",
       "         1,  1,  1,  1,  1,  1,  1,  1,  1,  1,  1,  1,  1,  1,  1,  1,  1,\n",
       "         1,  1,  1,  1,  1,  1,  1,  1,  1,  1,  1,  1,  1,  1,  1]))"
      ]
     },
     "execution_count": 25,
     "metadata": {},
     "output_type": "execute_result"
    }
   ],
   "source": [
    "from sklearn.ensemble import IsolationForest\n",
    "\n",
    "isolation_forest = IsolationForest(n_estimators=100, max_samples='auto', contamination=0.1, max_features=1.0, bootstrap=False, verbose=1, n_jobs=-1, random_state=42)\n",
    "iso_X1 = isolation_forest.fit_predict(X1)\n",
    "iso_X2 = isolation_forest.fit_predict(X2)\n",
    "iso_X1, iso_X2"
   ]
  },
  {
   "cell_type": "markdown",
   "metadata": {},
   "source": [
    "Above we can see that the first three values of our data are anomalous for both feature sets, according to the isolation forest. This largely agrees with our findings from the LOF, though the third data point was not found to be anomalous in X1 with LOF. We also see that we get a comparable amount of anomalies."
   ]
  },
  {
   "cell_type": "code",
   "execution_count": 26,
   "metadata": {},
   "outputs": [
    {
     "data": {
      "text/plain": [
       "(-92, -92)"
      ]
     },
     "execution_count": 26,
     "metadata": {},
     "output_type": "execute_result"
    }
   ],
   "source": [
    "iso_X1[iso_X1 == -1].sum(), iso_X2[iso_X2 == -1].sum()"
   ]
  },
  {
   "cell_type": "code",
   "execution_count": 27,
   "metadata": {},
   "outputs": [
    {
     "data": {
      "text/plain": [
       "<matplotlib.legend.Legend at 0x22bad715f48>"
      ]
     },
     "execution_count": 27,
     "metadata": {},
     "output_type": "execute_result"
    },
    {
     "data": {
      "image/png": "[encoded data removed]",
      "text/plain": [
       "<Figure size 432x288 with 2 Axes>"
      ]
     },
     "metadata": {
      "needs_background": "light"
     },
     "output_type": "display_data"
    }
   ],
   "source": [
    "from sklearn.mixture import GaussianMixture\n",
    "X1_gmms = [GaussianMixture(n_components=k).fit(X1) for k in range(1, 10)]\n",
    "X2_gmms = [GaussianMixture(n_components=k).fit(X2) for k in range(1, 10)]\n",
    "\n",
    "X1_aic = []\n",
    "X1_bic = []\n",
    "X2_aic = []\n",
    "X2_bic = []\n",
    "\n",
    "for gmm in X1_gmms:\n",
    "    X1_aic.append(gmm.aic(X1))\n",
    "    X1_bic.append(gmm.bic(X1))\n",
    "    \n",
    "for gmm in X1_gmms:\n",
    "    X2_aic.append(gmm.aic(X2))\n",
    "    X2_bic.append(gmm.bic(X2))\n",
    "    \n",
    "fig, ax = plt.subplots(2)\n",
    "ax[0].plot(range(1, 10), X1_aic, \"bo-\", label='aic')\n",
    "ax[0].plot(range(1, 10), X1_bic, \"gs-\", label='bic')\n",
    "ax[1].plot(range(1, 10), X2_aic, \"bo-\", label='aic')\n",
    "ax[1].plot(range(1, 10), X2_bic, \"gs-\", label='bic')\n",
    "ax[0].legend()\n",
    "ax[1].legend() "
   ]
  },
  {
   "cell_type": "markdown",
   "metadata": {},
   "source": [
    "The minimum for both features, and for both measures, occurs at k = 6. This is our optimal parameter for number of components."
   ]
  },
  {
   "cell_type": "code",
   "execution_count": 28,
   "metadata": {},
   "outputs": [],
   "source": [
    "optimal_gmm = GaussianMixture(n_components=6)\n",
    "X1_pred = optimal_gmm.fit_predict(X1)\n",
    "X2_pred = optimal_gmm.fit_predict(X2)"
   ]
  },
  {
   "cell_type": "markdown",
   "metadata": {},
   "source": [
    "Our previous models labeled approximately 10% of the data as anomalous. We'll use that to find anomalies with our GM model, setting 10% as our density threshold."
   ]
  },
  {
   "cell_type": "code",
   "execution_count": 29,
   "metadata": {},
   "outputs": [
    {
     "name": "stdout",
     "output_type": "stream",
     "text": [
      "X1 Outlier Number 1: 1\n",
      "X1 Outlier Number 2: 3\n",
      "X1 Outlier Number 3: 5\n",
      "X2 Outlier Number 1: 1\n",
      "X2 Outlier Number 2: 15\n",
      "X2 Outlier Number 3: 17\n"
     ]
    }
   ],
   "source": [
    "X1_densities = gmm.score_samples(X1)\n",
    "X2_densities = gmm.score_samples(X2)\n",
    "\n",
    "X1_anomalies = np.where(X1_densities < np.percentile(X1_densities, 10))\n",
    "X2_anomalies = np.where(X2_densities < np.percentile(X2_densities, 10))\n",
    "# List first three.\n",
    "for i in range(0, 3):\n",
    "    print('X1 Outlier Number ' + str(i+1) + ':', X1_anomalies[0][i])\n",
    "    \n",
    "for i in range(0, 3):\n",
    "    print('X2 Outlier Number ' + str(i+1) + ':', X2_anomalies[0][i])"
   ]
  },
  {
   "cell_type": "markdown",
   "metadata": {},
   "source": [
    "This performs much more poorly, as expected, since it assumes a Gaussian distribution of data. Isolation forest and LOF should both work better."
   ]
  },
  {
   "cell_type": "code",
   "execution_count": null,
   "metadata": {},
   "outputs": [],
   "source": []
  }
 ],
 "metadata": {
  "kernelspec": {
   "display_name": "Python 3",
   "language": "python",
   "name": "python3"
  },
  "language_info": {
   "codemirror_mode": {
    "name": "ipython",
    "version": 3
   },
   "file_extension": ".py",
   "mimetype": "text/x-python",
   "name": "python",
   "nbconvert_exporter": "python",
   "pygments_lexer": "ipython3",
   "version": "3.7.6"
  }
 },
 "nbformat": 4,
 "nbformat_minor": 4
}
